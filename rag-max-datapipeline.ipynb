{
 "cells": [
  {
   "cell_type": "code",
   "execution_count": null,
   "id": "196b27a0",
   "metadata": {},
   "outputs": [],
   "source": [
    "#!pip install tmdbv3api\n",
    "#!pip install openai\n",
    "#!pip install pinecone-client\n"
   ]
  },
  {
   "cell_type": "code",
   "execution_count": null,
   "id": "66c7fd96",
   "metadata": {},
   "outputs": [],
   "source": [
    "import openai\n",
    "import requests\n",
    "from tmdbv3api import TMDb, Discover, Movie\n",
    "import time"
   ]
  },
  {
   "cell_type": "code",
   "execution_count": null,
   "id": "9ee3ab09",
   "metadata": {},
   "outputs": [],
   "source": [
    "tmdb = TMDb()\n",
    "tmdb.api_key = ''\n",
    "\n",
    "movie = Movie()"
   ]
  },
  {
   "cell_type": "code",
   "execution_count": null,
   "id": "429a0991",
   "metadata": {},
   "outputs": [],
   "source": [
    "# Set up OpenAI API\n",
    "openai.api_key = \"\""
   ]
  },
  {
   "cell_type": "code",
   "execution_count": null,
   "id": "272e63ba",
   "metadata": {},
   "outputs": [],
   "source": [
    "search_result = movie.search('Inception')\n",
    "inception = search_result[0]"
   ]
  },
  {
   "cell_type": "code",
   "execution_count": null,
   "id": "da904634",
   "metadata": {},
   "outputs": [],
   "source": [
    "inception"
   ]
  },
  {
   "cell_type": "code",
   "execution_count": null,
   "id": "1ae72bd5",
   "metadata": {},
   "outputs": [],
   "source": [
    "inception_details = movie.details(inception.id)\n",
    "plot_summary = inception_details.overview\n",
    "plot_summary"
   ]
  },
  {
   "cell_type": "code",
   "execution_count": null,
   "id": "6ef352f8",
   "metadata": {},
   "outputs": [],
   "source": [
    "# Fetch movies (you can adjust the parameters as needed)\n",
    "discover = Discover()"
   ]
  },
  {
   "cell_type": "code",
   "execution_count": null,
   "id": "b112ba96",
   "metadata": {},
   "outputs": [],
   "source": [
    "def fetch_movies(params, pages_limit=10, delay_seconds=1):\n",
    "    all_movies = []\n",
    "    for page in range(1, pages_limit + 1):\n",
    "        print('Retrieving page', page)\n",
    "        params[\"page\"] = page\n",
    "        movies = discover.discover_movies(params)\n",
    "        all_movies.extend(movies)\n",
    "        print('..movies total:', len(all_movies))\n",
    "\n",
    "        # Be cautious of rate limits and sleep between requests if needed\n",
    "        # time.sleep(1)\n",
    "        # Sleep between requests to avoid rate limiting\n",
    "        if page < pages_limit:\n",
    "            time.sleep(delay_seconds)\n",
    "\n",
    "    return all_movies\n",
    "\n",
    "def fetch_movies_by_year(start_year, end_year, params, pages_limit=10):\n",
    "    all_movies = []\n",
    "    for year in range(start_year, end_year + 1):\n",
    "        params[\"primary_release_year\"] = str(year)\n",
    "        movies = fetch_movies(params, pages_limit)\n",
    "        all_movies.extend(movies)\n",
    "\n",
    "    return all_movies\n",
    "\n",
    "params = {\n",
    "    \"sort_by\": \"popularity.desc\",\n",
    "    \"language\": \"en\",\n",
    "    \"include_adult\": \"false\",\n",
    "    \"include_video\": \"false\",\n",
    "}\n",
    "\n",
    "# Fetch movies released between 2010 and 2020\n",
    "movies = fetch_movies_by_year(2019, 2021, params, pages_limit=20)\n",
    "\n"
   ]
  },
  {
   "cell_type": "code",
   "execution_count": null,
   "id": "e3eb38c7",
   "metadata": {},
   "outputs": [],
   "source": [
    "len(movies)"
   ]
  },
  {
   "cell_type": "code",
   "execution_count": null,
   "id": "ff1e299d",
   "metadata": {},
   "outputs": [],
   "source": [
    "movies[0]"
   ]
  },
  {
   "cell_type": "code",
   "execution_count": null,
   "id": "fd1465d8",
   "metadata": {},
   "outputs": [],
   "source": [
    "# Helper function to generate embeddings\n",
    "def generate_embeddings(text):\n",
    "    response = openai.Embed.create(model=\"text-davinci-002\", prompt=text)\n",
    "    return response[\"embeds\"][0]\n",
    "\n",
    "# Generate embeddings for movie plot summaries\n",
    "movie_embeddings = {}"
   ]
  },
  {
   "cell_type": "code",
   "execution_count": null,
   "id": "85c379b7",
   "metadata": {},
   "outputs": [],
   "source": [
    "response = openai.Embedding.create(\n",
    "  input=movies[0]['overview'],\n",
    "  model=\"text-embedding-ada-002\"\n",
    ")\n",
    "len(response['data'][0][\"embedding\"])"
   ]
  },
  {
   "cell_type": "code",
   "execution_count": null,
   "id": "84cc0c45",
   "metadata": {},
   "outputs": [],
   "source": [
    "import os\n",
    "import pinecone\n",
    "import numpy as np\n",
    "\n",
    "# Your Pinecone API Key\n",
    "api_key = \"\"\n",
    "\n",
    "# Initialize Pinecone\n",
    "pinecone.init(api_key=api_key, environment=\"us-west1-gcp\")\n",
    "\n",
    "# Create a new Pinecone index\n",
    "index_name = \"movies-index\""
   ]
  },
  {
   "cell_type": "code",
   "execution_count": null,
   "id": "b30081bb",
   "metadata": {},
   "outputs": [],
   "source": [
    "# pinecone.create_index(index_name, dimension=1536, metric=\"cosine\", pod_type=\"p1\")"
   ]
  },
  {
   "cell_type": "code",
   "execution_count": null,
   "id": "2348de82",
   "metadata": {},
   "outputs": [],
   "source": [
    "# Connect to the Pinecone index\n",
    "index = pinecone.Index(index_name)"
   ]
  },
  {
   "cell_type": "code",
   "execution_count": null,
   "id": "9ce35ab6",
   "metadata": {},
   "outputs": [],
   "source": [
    "\n",
    "\n",
    "for movie in movies:\n",
    "    text_data = 'Title: ' + movie['title'] + '\\nOverview: ' + movie['overview']    \n",
    "    print('adding movie id', movie['id'], '>>', text_data)\n",
    "    response = openai.Embedding.create(\n",
    "      input=text_data,\n",
    "      model=\"text-embedding-ada-002\"\n",
    "    )\n",
    "    embedding = response['data'][0][\"embedding\"]\n",
    "    meta = [{'text': text_data, 'poster_url': 'https://image.tmdb.org/t/p/w500' + movie['poster_path']}]\n",
    "    \n",
    "    # Ingest the chunk of text vectors into Pinecone\n",
    "    index.upsert(vectors=zip([str(movie['id'])], [embedding], meta))\n",
    "\n"
   ]
  },
  {
   "cell_type": "code",
   "execution_count": null,
   "id": "b2e073b2",
   "metadata": {},
   "outputs": [],
   "source": [
    "def get_matches(res, movie_map):\n",
    "    for m in res['matches']:\n",
    "        print('match:', m)\n",
    "    return res['matches']"
   ]
  },
  {
   "cell_type": "code",
   "execution_count": null,
   "id": "e54b5385",
   "metadata": {},
   "outputs": [],
   "source": [
    "def convert_movies_to_map(movies):\n",
    "    movie_map = {}\n",
    "    for m in movies:\n",
    "        movie_map[str(m['id'])] = m\n",
    "    return movie_map\n",
    "movie_map = convert_movies_to_map(movies)"
   ]
  },
  {
   "cell_type": "code",
   "execution_count": null,
   "id": "c86ae51c",
   "metadata": {},
   "outputs": [],
   "source": [
    "def convert_movies_to_title_map(movies):\n",
    "    movie_map = {}\n",
    "    for m in movies:\n",
    "        movie_map[str(m['title'])] = m\n",
    "    return movie_map\n",
    "movie_title_map = convert_movies_to_title_map(movies)"
   ]
  },
  {
   "cell_type": "code",
   "execution_count": null,
   "id": "989e9771",
   "metadata": {},
   "outputs": [],
   "source": [
    "'https://image.tmdb.org/t/p/w500' + movies[0]['poster_path']"
   ]
  },
  {
   "cell_type": "code",
   "execution_count": null,
   "id": "5433979a",
   "metadata": {},
   "outputs": [],
   "source": [
    "query = \"spy movies ethan\"\n",
    "res = openai.Embedding.create(\n",
    "    input=[query],\n",
    "    engine=\"text-embedding-ada-002\"\n",
    ")\n",
    "\n",
    "# retrieve from Pinecone\n",
    "xq = res['data'][0]['embedding']\n",
    "\n",
    "# get relevant contexts (including the questions)\n",
    "res = index.query(xq, top_k=5, include_metadata=True)\n",
    "matches = get_matches(res, movie_map)\n",
    "\n",
    "match_ids = [m['id'] for m in matches]\n",
    "match_ids"
   ]
  }
 ],
 "metadata": {
  "kernelspec": {
   "display_name": "Python 3 (ipykernel)",
   "language": "python",
   "name": "python3"
  },
  "language_info": {
   "codemirror_mode": {
    "name": "ipython",
    "version": 3
   },
   "file_extension": ".py",
   "mimetype": "text/x-python",
   "name": "python",
   "nbconvert_exporter": "python",
   "pygments_lexer": "ipython3",
   "version": "3.11.0"
  }
 },
 "nbformat": 4,
 "nbformat_minor": 5
}
